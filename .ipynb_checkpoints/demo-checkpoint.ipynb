{
 "cells": [
  {
   "cell_type": "markdown",
   "id": "institutional-possession",
   "metadata": {},
   "source": [
    "# Games from Rules <a class=\"anchor\" id=\"main\"></a>\n",
    "\n",
    "This app demonstrates how to model a situation as an Extensive Form Game from the specification of the rules that structure it.\n",
    "\n",
    "A game is built from three information sources:\n",
    "\n",
    "1. [``agents``](#agents) what agents are there susceptible of entering the situation, plus any additional attributes.\n",
    "              \n",
    "2. [``rules``](#Rules) the rules (of different types) structuring the situation.\n",
    "              \n",
    "3. [``states``](#States) initial and termination conditions, plus some auxiliary information."
   ]
  },
  {
   "cell_type": "code",
   "execution_count": 11,
   "id": "tutorial-circulation",
   "metadata": {},
   "outputs": [],
   "source": [
    "import sys\n",
    "sys.path.append('/Users/nmontes/OneDrive/Documentos/PhD/ngames/ngames')\n",
    "from ipywidgets import widgets"
   ]
  },
  {
   "cell_type": "markdown",
   "id": "internal-embassy",
   "metadata": {},
   "source": [
    "## Agents <a class=\"anchor\" id=\"agents\"></a>"
   ]
  },
  {
   "cell_type": "code",
   "execution_count": 64,
   "id": "restricted-operations",
   "metadata": {},
   "outputs": [
    {
     "data": {
      "application/vnd.jupyter.widget-view+json": {
       "model_id": "629cc106d22849f2a5dea1e4f9e22944",
       "version_major": 2,
       "version_minor": 0
      },
      "text/plain": [
       "VBox(children=(HBox(children=(Label(value='Introduce new agent:'), Text(value='alice'))), HBox(children=(Butto…"
      ]
     },
     "metadata": {},
     "output_type": "display_data"
    }
   ],
   "source": [
    "agents = []\n",
    "\n",
    "input_agent_label = widgets.Label(\"Introduce new agent:\")\n",
    "input_agent = widgets.Text(value='alice')\n",
    "\n",
    "add_agent_button = widgets.Button(description='Add agent')\n",
    "def add_agent(_):\n",
    "    if input_agent.value not in agents:\n",
    "        agents.append(input_agent.value)\n",
    "add_agent_button.on_click(add_agent)\n",
    "\n",
    "remove_agent_button = widgets.Button(description='Remove agent')\n",
    "def remove_agent(_):\n",
    "    if input_agent.value in agents:\n",
    "        agents.remove(input_agent.value)\n",
    "remove_agent_button.on_click(remove_agent)\n",
    "\n",
    "clear_agents_button = widgets.Button(description='Clear all')\n",
    "clear_agents_button.on_click(agents.clear())\n",
    "\n",
    "row1 = widgets.HBox([input_agent_label, input_agent])\n",
    "row2 = widgets.HBox([add_agent_button, remove_agent_button,\n",
    "                     clear_agents_button])\n",
    "\n",
    "widgets.VBox([row1, row2])"
   ]
  },
  {
   "cell_type": "code",
   "execution_count": 61,
   "id": "boolean-indication",
   "metadata": {
    "tags": [
     "hide-input"
    ]
   },
   "outputs": [
    {
     "data": {
      "text/plain": [
       "['alice']"
      ]
     },
     "execution_count": 61,
     "metadata": {},
     "output_type": "execute_result"
    }
   ],
   "source": [
    "agents"
   ]
  },
  {
   "cell_type": "markdown",
   "id": "macro-southeast",
   "metadata": {},
   "source": [
    "[Back to main menu](#main)"
   ]
  },
  {
   "cell_type": "markdown",
   "id": "democratic-experiment",
   "metadata": {},
   "source": [
    "## Rules"
   ]
  },
  {
   "cell_type": "markdown",
   "id": "virgin-congo",
   "metadata": {},
   "source": [
    "## States"
   ]
  },
  {
   "cell_type": "code",
   "execution_count": null,
   "id": "manual-score",
   "metadata": {},
   "outputs": [],
   "source": []
  }
 ],
 "metadata": {
  "kernelspec": {
   "display_name": "Python 3",
   "language": "python",
   "name": "python3"
  },
  "language_info": {
   "codemirror_mode": {
    "name": "ipython",
    "version": 3
   },
   "file_extension": ".py",
   "mimetype": "text/x-python",
   "name": "python",
   "nbconvert_exporter": "python",
   "pygments_lexer": "ipython3",
   "version": "3.8.5"
  },
  "toc-autonumbering": false,
  "toc-showcode": false,
  "toc-showmarkdowntxt": false,
  "toc-showtags": false
 },
 "nbformat": 4,
 "nbformat_minor": 5
}
