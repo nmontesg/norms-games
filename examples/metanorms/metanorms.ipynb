{
 "cells": [
  {
   "cell_type": "code",
   "execution_count": 1,
   "metadata": {},
   "outputs": [],
   "source": [
    "import os\n",
    "import sys\n",
    "ngames_path = os.path.abspath(os.path.join(os.getcwd(), '../..', 'ngames/evaluation'))\n",
    "sys.path.append(ngames_path)"
   ]
  },
  {
   "cell_type": "code",
   "execution_count": null,
   "metadata": {},
   "outputs": [],
   "source": [
    "import matplotlib.pyplot as plt\n",
    "from extensivegames import plot_game\n",
    "from build import build_full_game, build_game_from_rule_combination\n",
    "from equilibrium import minimize_incentives, subgame_perfect_equilibrium, outcome_probability"
   ]
  },
  {
   "cell_type": "code",
   "execution_count": null,
   "metadata": {},
   "outputs": [],
   "source": [
    "def set_utility(game):\n",
    "    r\"\"\"Set the utility of the game at the terminal nodes.\n",
    "    \n",
    "    Set the utility at the terminal nodes to the payoff the agents have\n",
    "    received. Other possibilities are possible (e.g. consider equality).\n",
    "    \"\"\"\n",
    "    for n in game.game_tree.terminal_nodes:\n",
    "        node_utility = {}\n",
    "        facts = game.state_fluents[n]\n",
    "        for f in facts:\n",
    "            if '(' in f:\n",
    "                predicate = f.split('(')[0]\n",
    "                args = f.split('(')[1][:-1].split(', ')\n",
    "            else:\n",
    "                predicate = f\n",
    "            if predicate == 'payoff':\n",
    "                node_utility[args[0]] = float(args[1])\n",
    "        game.set_utility(n, node_utility)"
   ]
  },
  {
   "cell_type": "markdown",
   "metadata": {},
   "source": [
    "# Norms game"
   ]
  },
  {
   "cell_type": "code",
   "execution_count": null,
   "metadata": {},
   "outputs": [],
   "source": [
    "norms_game = build_game_from_rule_combination('.', 'metanorms', {'n1':-1})\n",
    "\n",
    "my_fig_kwargs = dict(figsize=(12, 13), frameon=False, tight_layout=True)\n",
    "my_node_kwargs = dict(font_size=24, node_size=1200, edgecolors='k',\n",
    "                      linewidths=1.5)\n",
    "my_edge_kwargs = dict(arrowsize=30, width=1.5)\n",
    "my_edge_labels_kwargs = dict(font_size=24)\n",
    "my_patch_kwargs = dict(linewidth=1.5)\n",
    "my_legend_kwargs = dict(fontsize=18, loc='upper left', edgecolor='white')\n",
    "my_utility_label_kwargs = dict(horizontalalignment='center', fontsize=18, weight='bold')\n",
    "my_info_sets_kwargs = dict(linestyle='--', linewidth=1.5)\n",
    "\n",
    "position_colors =  {'i':'aquamarine', 'j':'greenyellow', 'k':'violet'}\n",
    "\n",
    "fig = plot_game(norms_game,\n",
    "                position_colors,\n",
    "                fig_kwargs=my_fig_kwargs,\n",
    "                node_kwargs=my_node_kwargs,\n",
    "                edge_kwargs=my_edge_kwargs,\n",
    "                edge_labels_kwargs=my_edge_labels_kwargs,\n",
    "                patch_kwargs=my_patch_kwargs,\n",
    "                legend_kwargs=my_legend_kwargs,\n",
    "                utility_label_kwargs=my_utility_label_kwargs,\n",
    "                decimals=0,\n",
    "                utility_label_shift=0.065,\n",
    "                info_sets_kwargs=my_info_sets_kwargs)\n",
    "\n",
    "# fig.savefig('/home/nmontes/OneDrive/Documentos/PhD/action-situation-language/figures/axelrod_norms.png', bbox_inches='tight', dpi=400)"
   ]
  },
  {
   "cell_type": "code",
   "execution_count": null,
   "metadata": {},
   "outputs": [],
   "source": [
    "for n, f in norms_game.state_fluents.items():\n",
    "    f.sort()\n",
    "    print(\"{} -- {}\".format(n, ', '.join(f)))"
   ]
  },
  {
   "cell_type": "code",
   "execution_count": null,
   "metadata": {},
   "outputs": [],
   "source": [
    "subgame_mixed_strat, back_utilities, incentives = subgame_perfect_equilibrium(norms_game, minimize_incentives)\n",
    "\n",
    "for node, mixed_strategy_profile in subgame_mixed_strat.items():\n",
    "    print(\"At node {}: f(s)={:.3f}\".format(node, incentives[node]))\n",
    "    for player, player_strat in mixed_strategy_profile.items():\n",
    "        print(\"{}: {}\".format(player, player_strat))\n",
    "    print()"
   ]
  },
  {
   "cell_type": "code",
   "execution_count": null,
   "metadata": {},
   "outputs": [],
   "source": [
    "# compute the probability distribution over terminal nodes induced by the strategy\n",
    "outcome_prob = {t: outcome_probability(norms_game, subgame_mixed_strat, t) for t in norms_game.game_tree.terminal_nodes}\n",
    "\n",
    "for n, p in outcome_prob.items():\n",
    "    print(\"{} -- {}\".format(n, p))"
   ]
  },
  {
   "cell_type": "markdown",
   "metadata": {},
   "source": [
    "# Metanorms game"
   ]
  },
  {
   "cell_type": "code",
   "execution_count": null,
   "metadata": {},
   "outputs": [],
   "source": [
    "metanorms_game = build_game_from_rule_combination('.', 'metanorms', {'n1':1}, utility_assignment_function=set_utility)\n",
    "\n",
    "my_fig_kwargs = dict(figsize=(12, 13), frameon=False, tight_layout=True)\n",
    "my_node_kwargs = dict(font_size=24, node_size=1200, edgecolors='k',\n",
    "                      linewidths=1.5)\n",
    "my_edge_kwargs = dict(arrowsize=30, width=1.5)\n",
    "my_edge_labels_kwargs = dict(font_size=18)\n",
    "my_patch_kwargs = dict(linewidth=1.5)\n",
    "my_legend_kwargs = dict(fontsize=18, loc='upper left', edgecolor='white')\n",
    "my_utility_label_kwargs = dict(horizontalalignment='center', fontsize=18, weight='bold')\n",
    "my_info_sets_kwargs = dict(linestyle='--', linewidth=1.5)\n",
    "\n",
    "fig = plot_game(metanorms_game,\n",
    "                position_colors,\n",
    "                fig_kwargs=my_fig_kwargs,\n",
    "                node_kwargs=my_node_kwargs,\n",
    "                edge_kwargs=my_edge_kwargs,\n",
    "                edge_labels_kwargs=my_edge_labels_kwargs,\n",
    "                patch_kwargs=my_patch_kwargs,\n",
    "                legend_kwargs=my_legend_kwargs,\n",
    "                utility_label_kwargs=my_utility_label_kwargs,\n",
    "                decimals=0,\n",
    "                utility_label_shift=0.11,\n",
    "                info_sets_kwargs=my_info_sets_kwargs)\n",
    "\n",
    "# fig.savefig('/home/nmontes/OneDrive/Documentos/PhD/action-situation-language/figures/axelrod_metanorms.png', bbox_inches='tight', dpi=400)"
   ]
  },
  {
   "cell_type": "code",
   "execution_count": null,
   "metadata": {},
   "outputs": [],
   "source": [
    "for n, f in metanorms_game.state_fluents.items():\n",
    "    f.sort()\n",
    "    print(\"{} -- {}\".format(n, ', '.join(f)))"
   ]
  },
  {
   "cell_type": "code",
   "execution_count": null,
   "metadata": {},
   "outputs": [],
   "source": [
    "subgame_mixed_strat, back_utilities, incentives = subgame_perfect_equilibrium(metanorms_game, minimize_incentives)\n",
    "\n",
    "for node, mixed_strategy_profile in subgame_mixed_strat.items():\n",
    "    print(\"At node {}: f(s)={:.3f}\".format(node, incentives[node]))\n",
    "    for player, player_strat in mixed_strategy_profile.items():\n",
    "        print(\"{}: {}\".format(player, player_strat))\n",
    "    print()"
   ]
  },
  {
   "cell_type": "code",
   "execution_count": null,
   "metadata": {},
   "outputs": [],
   "source": [
    "# compute the probability distribution over terminal nodes induced by the strategy\n",
    "outcome_prob = {t: outcome_probability(metanorms_game, subgame_mixed_strat, t) for t in metanorms_game.game_tree.terminal_nodes}\n",
    "\n",
    "for n, p in outcome_prob.items():\n",
    "    print(\"{} -- {}\".format(n, p))"
   ]
  },
  {
   "cell_type": "code",
   "execution_count": null,
   "metadata": {},
   "outputs": [],
   "source": []
  }
 ],
 "metadata": {
  "kernelspec": {
   "display_name": "Python 3 (ipykernel)",
   "language": "python",
   "name": "python3"
  },
  "language_info": {
   "codemirror_mode": {
    "name": "ipython",
    "version": 3
   },
   "file_extension": ".py",
   "mimetype": "text/x-python",
   "name": "python",
   "nbconvert_exporter": "python",
   "pygments_lexer": "ipython3",
   "version": "3.8.5"
  }
 },
 "nbformat": 4,
 "nbformat_minor": 4
}
