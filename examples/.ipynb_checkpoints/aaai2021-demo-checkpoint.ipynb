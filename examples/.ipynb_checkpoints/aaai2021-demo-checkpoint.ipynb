{
 "cells": [
  {
   "cell_type": "code",
   "execution_count": 1,
   "id": "computational-essay",
   "metadata": {},
   "outputs": [],
   "source": [
    "import sys\n",
    "sys.path.append('/Users/nmontes/OneDrive/Documentos/PhD/norms-games/norms-games')\n",
    "import matplotlib.pyplot as plt\n",
    "from extensivegames import ExtensiveFormGame, plot_game\n",
    "from build import build_full_game"
   ]
  },
  {
   "cell_type": "markdown",
   "id": "designed-grounds",
   "metadata": {},
   "source": [
    "# AAAI spring symposium 2021 demostration\n",
    "\n",
    "In this demonstration, we will illustrate how to model situations as Extensive Form Games from the rules structuring the situation.\n",
    "\n",
    "A game is built from the information contained in three files:\n",
    "\n",
    "1. ``agents.pl`` what agents are there susceptible of entering the situation, plus any additional attributes.\n",
    "\n",
    "2. ``rules.pl`` the rules (of different types) structuring the situation.\n",
    "\n",
    "3. ``states.pl`` initial plus termination conditions."
   ]
  },
  {
   "cell_type": "markdown",
   "id": "simple-courtesy",
   "metadata": {},
   "source": [
    "## Iterated Prisoner's Dilemma Example\n",
    "\n",
    "This is the benchmark model in game theory. Two actors face the possibility to *cooperate* or *defect* on one another. They both have an incentive to *defect*, but both are better off if they *cooperate*. They collect some payoff which is given (for a single round) by:\n",
    "\n",
    "|           | cooperate | defect |\n",
    "|----------:|:---------:|:------:|\n",
    "| cooperate | 6,6       | 0,9    |\n",
    "| defect    | 9,0       | 3,3    |\n",
    "\n",
    "We will model the *iterated* version of the game. Two agents play a fixed number of rounds of the game."
   ]
  },
  {
   "cell_type": "markdown",
   "id": "chicken-procurement",
   "metadata": {},
   "source": [
    "### ``agents.pl`` file\n",
    "\n",
    "In this file we specify the agents that are susceptible of participating in the game. For the IPD, we include two agents (who will play the role of prisoners)."
   ]
  },
  {
   "cell_type": "code",
   "execution_count": 2,
   "id": "paperback-partner",
   "metadata": {},
   "outputs": [],
   "source": [
    "agents_file = open(\"agents.pl\", \"w+\")\n",
    "\n",
    "_ = agents_file.write(\"\"\"\n",
    "agent(alice).\n",
    "agent(bob).\n",
    "\"\"\")\n",
    "\n",
    "agents_file.close()"
   ]
  },
  {
   "cell_type": "markdown",
   "id": "dangerous-trust",
   "metadata": {},
   "source": [
    "### ``rules.pl`` file\n",
    "\n",
    "In this file we rules and norms that structure the situation we intend to model (relevant state variables, available actions and their effects, etc).\n",
    "\n",
    "The rules included in this file follow the syntax:\n",
    "\n",
    "|     |     |\n",
    "|----:|:----|\n",
    "|rule(|flag,|\n",
    "|     |type,|\n",
    "|     |priority,|\n",
    "|     |where *Conditions* then *Consequences* where *Constraints*|\n",
    "|)||\n",
    "\n",
    "* ``flag``: an identifier for the situation we are modelling.\n",
    "* ``type``: the aspect of the action situation that the rule is targeting.\n",
    "* ``priority``: 0 for the *default* rules, >0 for norms overruling or adding on top of the default rules.\n",
    "* Content of the rule: *Conditions-Consequences-Constraints*"
   ]
  },
  {
   "cell_type": "code",
   "execution_count": 3,
   "id": "fifty-gasoline",
   "metadata": {},
   "outputs": [],
   "source": [
    "# clear file first\n",
    "rules_file = open(\"rules.pl\", \"w+\")\n",
    "rules_file.close()\n",
    "\n",
    "rules_file = open(\"rules.pl\", \"a+\")\n",
    "_ = rules_file.write(\":- use_module(library(clpr)).\")"
   ]
  },
  {
   "cell_type": "markdown",
   "id": "civic-radius",
   "metadata": {},
   "source": [
    "**Boundary rules**\n",
    "\n",
    "Who, among the agents, gets to participate in the action situation?\n",
    "\n",
    "By default, all agents participate."
   ]
  },
  {
   "cell_type": "code",
   "execution_count": 4,
   "id": "unknown-monte",
   "metadata": {},
   "outputs": [],
   "source": [
    "_ = rules_file.write(\"\"\"\n",
    "rule(\n",
    "  ipd,\n",
    "  boundary,\n",
    "  0,\n",
    "  if agent(A) then participates(A) where []\n",
    ").\n",
    "\"\"\")"
   ]
  },
  {
   "cell_type": "markdown",
   "id": "alone-economy",
   "metadata": {},
   "source": [
    "**Position rules**\n",
    "\n",
    "What role do the participating agents take?\n",
    "\n",
    "By default, they all take the role of prisoners."
   ]
  },
  {
   "cell_type": "code",
   "execution_count": 5,
   "id": "golden-caution",
   "metadata": {},
   "outputs": [],
   "source": [
    "_ = rules_file.write(\"\"\"\n",
    "rule(\n",
    "  ipd,\n",
    "  position,\n",
    "  0,\n",
    "  if participates(A) then role(A,prisoner) where []\n",
    ").\n",
    "\"\"\")"
   ]
  },
  {
   "cell_type": "markdown",
   "id": "national-tribe",
   "metadata": {},
   "source": [
    "**Choice rules**\n",
    "\n",
    "What actions are available to every role? Under what circumstances.\n",
    "\n",
    "By default, any prisoner can cooperate or defect at any point."
   ]
  },
  {
   "cell_type": "code",
   "execution_count": 6,
   "id": "invisible-singing",
   "metadata": {},
   "outputs": [],
   "source": [
    "_ = rules_file.write(\"\"\"\n",
    "rule(\n",
    "  ipd,\n",
    "  choice,\n",
    "  0,\n",
    "  if role(P,prisoner) then can(P,cooperate) where []\n",
    ").\n",
    "\n",
    "rule(\n",
    "  ipd,\n",
    "  choice,\n",
    "  0,\n",
    "  if role(P,prisoner) then can(P,defect) where []\n",
    ").\n",
    "\"\"\")"
   ]
  },
  {
   "cell_type": "markdown",
   "id": "bigger-championship",
   "metadata": {},
   "source": [
    "**Control rules**\n",
    "\n",
    "What are the effects of actions? With what probability?\n",
    "\n",
    "In the Iterated Prisoner's Dilemma, we have three possibilities:\n",
    "\n",
    "1. Both prisoners cooperate.\n",
    "2. Both prisoners defect.\n",
    "3. One prisoner defects on the other."
   ]
  },
  {
   "cell_type": "code",
   "execution_count": 7,
   "id": "other-noise",
   "metadata": {},
   "outputs": [],
   "source": [
    "_ = rules_file.write(\"\"\"\n",
    "rule(\n",
    "  ipd,\n",
    "  control,\n",
    "  0,\n",
    "  if rounds(N) and does(P1,_) and does(P2,_)\n",
    "  then [rounds(M) withProb 1]\n",
    "  where [P1@<P2,{M=N+1}]\n",
    ").\n",
    "\n",
    "rule(\n",
    "  ipd,\n",
    "  control,\n",
    "  0,\n",
    "  if does(P1,cooperate) and does(P2,cooperate)\n",
    "  then [payoff(P1,Y1) and payoff(P2,Y2) withProb 1]\n",
    "  where [P1@<P2,payoff(P1,X1),payoff(P2,X2),{Y1=X1+6},{Y2=X2+6}]\n",
    ").\n",
    "\n",
    "rule(\n",
    "  ipd,\n",
    "  control,\n",
    "  0,\n",
    "  if does(P1,defect) and does(P2,defect)\n",
    "  then [payoff(P1,Y1) and payoff(P2,Y2) withProb 1]\n",
    "  where [P1@<P2,payoff(P1,X1),payoff(P2,X2),{Y1=X1+3},{Y2=X2+3}]\n",
    ").\n",
    "\n",
    "rule(\n",
    "  ipd,\n",
    "  control,\n",
    "  0,\n",
    "  if does(P1,cooperate) and does(P2,defect)\n",
    "  then [payoff(P1,Y1) and payoff(P2,Y2) withProb 1]\n",
    "  where [payoff(P1,X1),payoff(P2,X2),{Y1=X1+0},{Y2=X2+9}]\n",
    ").\n",
    "\"\"\")"
   ]
  },
  {
   "cell_type": "code",
   "execution_count": 8,
   "id": "christian-village",
   "metadata": {},
   "outputs": [],
   "source": [
    "rules_file.close()"
   ]
  },
  {
   "cell_type": "markdown",
   "id": "corrected-parts",
   "metadata": {},
   "source": [
    "### ``states.pl`` file\n",
    "\n",
    "This file provides the initial and termination conditions, as well as some auxiliary information."
   ]
  },
  {
   "cell_type": "code",
   "execution_count": 9,
   "id": "employed-anime",
   "metadata": {},
   "outputs": [],
   "source": [
    "states_file = open(\"states.pl\", \"w+\")\n",
    "_ = states_file.write(\"\"\"\n",
    ":- dynamic payoff/2, rounds/1, consecutiveDefections/2.\n",
    "\n",
    "% compatible/2\n",
    "% compatible(+NewFact, +ListOfFacts): Succeds if the term NewFact is compatible\n",
    "%   with the terms in ListOfFacts.\n",
    "compatible(payoff(P,_),L) :-\n",
    "  !,\\+member(payoff(P,_),L).\n",
    "compatible(rounds(_),L) :-\n",
    "  !,\\+member(rounds(_),L).\n",
    "\n",
    "% Anything is compatible if no facts have been introduced yet\n",
    "compatible(_,[]).\n",
    "\"\"\")"
   ]
  },
  {
   "cell_type": "markdown",
   "id": "adjusted-fight",
   "metadata": {},
   "source": [
    "**Initial conditions**"
   ]
  },
  {
   "cell_type": "code",
   "execution_count": 10,
   "id": "dynamic-taylor",
   "metadata": {},
   "outputs": [],
   "source": [
    "_ = states_file.write(\"\"\"\n",
    "initially(payoff(P,0)) :- role(P,prisoner).\n",
    "initially(rounds(0)).\n",
    "\"\"\")"
   ]
  },
  {
   "cell_type": "markdown",
   "id": "sharing-brooklyn",
   "metadata": {},
   "source": [
    "**Termination conditions**\n",
    "\n",
    "After three rounds."
   ]
  },
  {
   "cell_type": "code",
   "execution_count": 11,
   "id": "jewish-jerusalem",
   "metadata": {},
   "outputs": [],
   "source": [
    "_ = states_file.write(\"\"\"\n",
    "terminal :- rounds(N),N>=3.\n",
    "\"\"\")"
   ]
  },
  {
   "cell_type": "code",
   "execution_count": 12,
   "id": "latest-married",
   "metadata": {},
   "outputs": [],
   "source": [
    "states_file.close()"
   ]
  },
  {
   "cell_type": "markdown",
   "id": "western-burns",
   "metadata": {},
   "source": [
    "### Let's build the game tree"
   ]
  },
  {
   "cell_type": "code",
   "execution_count": 13,
   "id": "particular-keyboard",
   "metadata": {},
   "outputs": [],
   "source": [
    "import ipywidgets as widgets\n",
    "\n",
    "button = widgets.Button(description=\"Build game\")\n",
    "out = widgets.Output()\n",
    "\n",
    "identifier = \"ipd\"\n",
    "\n",
    "def set_utility(game):\n",
    "    r\"\"\"Set the utility of the game at the terminal nodes.\n",
    "    \n",
    "    Set the utility at the terminal nodes to the payoff the agents have\n",
    "    received. Other possibilities are possible (e.g. consider equality).\n",
    "    \"\"\"\n",
    "    for n in game.game_tree.terminal_nodes:\n",
    "        node_utility = {}\n",
    "        facts = game.node_info[n]\n",
    "        for f in facts:\n",
    "            predicate = f.split('(')[0]\n",
    "            args = f.split('(')[1][:-1].split(', ')\n",
    "            if predicate == 'payoff':\n",
    "                node_utility[args[0]] = float(args[1])\n",
    "        game.set_utility(n, node_utility)\n",
    "\n",
    "def on_button_clicked(_):\n",
    "    with out:\n",
    "        folder = \".\"\n",
    "        game_ipd = build_full_game(\".\", identifier)\n",
    "        set_utility(game_ipd)\n",
    "        position_colors =  {'alice':'cyan', 'bob':'red'}\n",
    "\n",
    "        # default keywords for rendering the figure\n",
    "        my_fig_kwargs = dict(figsize=(25,15), frameon=False, tight_layout=True)\n",
    "        my_node_kwargs = dict(font_size=10, node_size=500, edgecolors='k',\n",
    "                              linewidths=1.5)\n",
    "        my_edge_kwargs = dict(arrowsize=15, width=2.5)\n",
    "        my_edge_labels_kwargs = dict(font_size=14)\n",
    "        my_patch_kwargs = dict(linewidth=1.5)\n",
    "        my_legend_kwargs = dict(fontsize=16, loc='upper right',\n",
    "                                edgecolor='white')\n",
    "        my_utility_label_kwargs = dict(horizontalalignment='center',\n",
    "                                       fontsize=10)\n",
    "        my_info_sets_kwargs = dict(linestyle='--', linewidth=2)\n",
    "\n",
    "        fig = plot_game(game_ipd, \n",
    "                        position_colors,\n",
    "                        fig_kwargs=my_fig_kwargs,\n",
    "                        node_kwargs=my_node_kwargs,\n",
    "                        edge_kwargs=my_edge_kwargs,\n",
    "                        edge_labels_kwargs=my_edge_labels_kwargs,\n",
    "                        patch_kwargs=my_patch_kwargs,\n",
    "                        legend_kwargs=my_legend_kwargs,\n",
    "                        utility_label_kwargs=my_utility_label_kwargs,\n",
    "                        utility_label_shift=0.05,\n",
    "                        info_sets_kwargs=my_info_sets_kwargs)\n",
    "        \n",
    "button.on_click(on_button_clicked)"
   ]
  },
  {
   "cell_type": "code",
   "execution_count": 15,
   "id": "hydraulic-installation",
   "metadata": {},
   "outputs": [],
   "source": [
    "%matplotlib qt"
   ]
  },
  {
   "cell_type": "code",
   "execution_count": 14,
   "id": "processed-square",
   "metadata": {},
   "outputs": [
    {
     "data": {
      "application/vnd.jupyter.widget-view+json": {
       "model_id": "85e6c8d408b14ca9b043a7b39b5597af",
       "version_major": 2,
       "version_minor": 0
      },
      "text/plain": [
       "VBox(children=(Button(description='Build game', style=ButtonStyle()), Output()))"
      ]
     },
     "metadata": {},
     "output_type": "display_data"
    }
   ],
   "source": [
    "widgets.VBox([button, out])"
   ]
  },
  {
   "cell_type": "code",
   "execution_count": null,
   "id": "least-biodiversity",
   "metadata": {},
   "outputs": [],
   "source": []
  }
 ],
 "metadata": {
  "kernelspec": {
   "display_name": "Python 3",
   "language": "python",
   "name": "python3"
  },
  "language_info": {
   "codemirror_mode": {
    "name": "ipython",
    "version": 3
   },
   "file_extension": ".py",
   "mimetype": "text/x-python",
   "name": "python",
   "nbconvert_exporter": "python",
   "pygments_lexer": "ipython3",
   "version": "3.8.5"
  },
  "toc-autonumbering": false,
  "toc-showcode": false,
  "toc-showmarkdowntxt": false
 },
 "nbformat": 4,
 "nbformat_minor": 5
}
