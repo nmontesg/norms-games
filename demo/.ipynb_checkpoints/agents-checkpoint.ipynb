{
 "cells": [
  {
   "cell_type": "markdown",
   "id": "round-underground",
   "metadata": {},
   "source": [
    "# Agents"
   ]
  },
  {
   "cell_type": "code",
   "execution_count": 11,
   "id": "earned-portal",
   "metadata": {
    "tags": [
     "hide_input"
    ]
   },
   "outputs": [
    {
     "data": {
      "application/vnd.jupyter.widget-view+json": {
       "model_id": "1b1166328a4940dc91e38b7b02162dd8",
       "version_major": 2,
       "version_minor": 0
      },
      "text/plain": [
       "VBox(children=(HBox(children=(Label(value='Introduce new agent:'), Text(value='alice'))), HBox(children=(Butto…"
      ]
     },
     "metadata": {},
     "output_type": "display_data"
    }
   ],
   "source": [
    "import sys\n",
    "sys.path.append('/Users/nmontes/OneDrive/Documentos/PhD/ngames/ngames')\n",
    "from ipywidgets import widgets\n",
    "\n",
    "agents = []\n",
    "\n",
    "out = widgets.Output()\n",
    "\n",
    "def update_output():\n",
    "    with out:\n",
    "        out.clear_output()\n",
    "        print(\"Your agents:\")\n",
    "        print(\"------------\")\n",
    "        for a in agents:\n",
    "            print(\"  {}\".format(a))\n",
    "\n",
    "input_agent_label = widgets.Label(\"Introduce new agent:\")\n",
    "input_agent = widgets.Text(value='alice')\n",
    "\n",
    "add_agent_button = widgets.Button(description='Add agent')\n",
    "def add_agent(_):\n",
    "    if input_agent.value not in agents:\n",
    "        agents.append(input_agent.value)\n",
    "        update_output()\n",
    "add_agent_button.on_click(add_agent)\n",
    "\n",
    "remove_agent_button = widgets.Button(description='Remove agent')\n",
    "def remove_agent(_):\n",
    "    if input_agent.value in agents:\n",
    "        agents.remove(input_agent.value)\n",
    "        update_output()\n",
    "remove_agent_button.on_click(remove_agent)\n",
    "\n",
    "clear_agents_button = widgets.Button(description='Clear all')\n",
    "def clear_agents(_):\n",
    "    agents.clear()\n",
    "    update_output()\n",
    "clear_agents_button.on_click(clear_agents)\n",
    "\n",
    "row1 = widgets.HBox([input_agent_label, input_agent])\n",
    "row2 = widgets.HBox([add_agent_button, remove_agent_button,\n",
    "                     clear_agents_button])\n",
    "\n",
    "widgets.VBox([row1, row2, out])"
   ]
  },
  {
   "cell_type": "code",
   "execution_count": null,
   "id": "entertaining-holder",
   "metadata": {},
   "outputs": [],
   "source": [
    "agents"
   ]
  }
 ],
 "metadata": {
  "kernelspec": {
   "display_name": "Python 3",
   "language": "python",
   "name": "python3"
  },
  "language_info": {
   "codemirror_mode": {
    "name": "ipython",
    "version": 3
   },
   "file_extension": ".py",
   "mimetype": "text/x-python",
   "name": "python",
   "nbconvert_exporter": "python",
   "pygments_lexer": "ipython3",
   "version": "3.8.5"
  }
 },
 "nbformat": 4,
 "nbformat_minor": 5
}
