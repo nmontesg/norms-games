{
 "cells": [
  {
   "cell_type": "markdown",
   "id": "sunset-lunch",
   "metadata": {},
   "source": [
    "# Games from Rules\n",
    "\n",
    "This app demonstrates how to model a situation as an Extensive Form Game from the specification of the rules that structure it.\n",
    "\n",
    "A game is built from three information sources:\n",
    "\n",
    "1. ``agents``: what agents are there susceptible of entering the situation, plus any additional attributes.\n",
    "              \n",
    "2. ``rules``: the rules (of different types) structuring the situation.\n",
    "              \n",
    "3. ``states``: initial and termination conditions, plus some auxiliary information."
   ]
  }
 ],
 "metadata": {
  "kernelspec": {
   "display_name": "Python 3",
   "language": "python",
   "name": "python3"
  },
  "language_info": {
   "codemirror_mode": {
    "name": "ipython",
    "version": 3
   },
   "file_extension": ".py",
   "mimetype": "text/x-python",
   "name": "python",
   "nbconvert_exporter": "python",
   "pygments_lexer": "ipython3",
   "version": "3.8.5"
  }
 },
 "nbformat": 4,
 "nbformat_minor": 5
}
